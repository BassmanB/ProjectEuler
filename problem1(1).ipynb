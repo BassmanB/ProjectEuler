{
 "cells": [
  {
   "cell_type": "code",
   "execution_count": 9,
   "metadata": {
    "collapsed": false
   },
   "outputs": [
    {
     "ename": "SyntaxError",
     "evalue": "invalid syntax (<ipython-input-9-1e261e4065dd>, line 15)",
     "output_type": "error",
     "traceback": [
      "\u001b[0;36m  File \u001b[0;32m\"<ipython-input-9-1e261e4065dd>\"\u001b[0;36m, line \u001b[0;32m15\u001b[0m\n\u001b[0;31m    else:\u001b[0m\n\u001b[0m       ^\u001b[0m\n\u001b[0;31mSyntaxError\u001b[0m\u001b[0;31m:\u001b[0m invalid syntax\n"
     ]
    }
   ],
   "source": [
    "tab = []\n",
    "i =0\n",
    "licznik = 0\n",
    "suma =0\n",
    "while i < 1000:\n",
    "    tab.append(i)\n",
    "    i+=1\n",
    "    \n",
    "for i in tab:\n",
    "    \n",
    "    \n",
    "    if(tab[i]%3==0 and tab[i]%5==0):\n",
    "        suma = suma +tab[i]\n",
    "        \n",
    "    else:\n",
    "        if(tab[i]%3==0): \n",
    "            print(tab[i])\n",
    "            suma = suma +tab[i]\n",
    "        \n",
    "            if (tab[i]%5==0):\n",
    "                suma = suma +tab[i]\n",
    "        \n",
    "\n",
    "suma\n",
    "\n",
    "        \n",
    "        \n",
    "        \n",
    "         \n",
    "    "
   ]
  },
  {
   "cell_type": "code",
   "execution_count": null,
   "metadata": {
    "collapsed": true
   },
   "outputs": [],
   "source": []
  }
 ],
 "metadata": {
  "kernelspec": {
   "display_name": "Python 3",
   "language": "python",
   "name": "python3"
  },
  "language_info": {
   "codemirror_mode": {
    "name": "ipython",
    "version": 3
   },
   "file_extension": ".py",
   "mimetype": "text/x-python",
   "name": "python",
   "nbconvert_exporter": "python",
   "pygments_lexer": "ipython3",
   "version": "3.5.2"
  }
 },
 "nbformat": 4,
 "nbformat_minor": 1
}
