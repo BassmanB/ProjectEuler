{
 "cells": [
  {
   "cell_type": "code",
   "execution_count": 3,
   "metadata": {},
   "outputs": [
    {
     "name": "stdout",
     "output_type": "stream",
     "text": [
      "232792560\n",
      "232792561\n"
     ]
    }
   ],
   "source": [
    "i=2520\n",
    "\n",
    "tab = [18,14,15,20,19,17,13,11,16]\n",
    "licz =0 \n",
    "while (licz < 9):\n",
    "    licz =0\n",
    "    for j in tab:\n",
    "        if(i%j==0):\n",
    "            licz=licz+1\n",
    "        if (licz==9):\n",
    "            print (i)\n",
    "            \n",
    "    i = i+1\n",
    "print (i)"
   ]
  },
  {
   "cell_type": "code",
   "execution_count": null,
   "metadata": {},
   "outputs": [],
   "source": []
  },
  {
   "cell_type": "code",
   "execution_count": null,
   "metadata": {},
   "outputs": [],
   "source": []
  }
 ],
 "metadata": {
  "kernelspec": {
   "display_name": "Python 3",
   "language": "python",
   "name": "python3"
  },
  "language_info": {
   "codemirror_mode": {
    "name": "ipython",
    "version": 3
   },
   "file_extension": ".py",
   "mimetype": "text/x-python",
   "name": "python",
   "nbconvert_exporter": "python",
   "pygments_lexer": "ipython3",
   "version": "3.5.5"
  }
 },
 "nbformat": 4,
 "nbformat_minor": 2
}
