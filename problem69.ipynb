{
 "cells": [
  {
   "cell_type": "code",
   "execution_count": null,
   "metadata": {},
   "outputs": [],
   "source": [
    "tab = []\n",
    "licz=[]\n",
    "i = 0\n",
    "\n",
    "while i<1000000:\n",
    "    if(i%2 ==0 and i%3 ==0):\n",
    "        tab.append(i)\n",
    "    i=i+1\n",
    "    \n",
    "i=0\n",
    "while i<166665:\n",
    "    j=1\n",
    "    num=0\n",
    "    while j<tab[i]:\n",
    "        if(tab[i]%j!=0):\n",
    "            num=num+1\n",
    "        j=j+1\n",
    "      \n",
    "    if(num!=0):\n",
    "        licz.append(tab[i]/num)\n",
    "    \n",
    "    i=i+1\n",
    "   \n",
    "    \n",
    "max(licz)   \n",
    "    \n",
    "    \n",
    "    "
   ]
  },
  {
   "cell_type": "code",
   "execution_count": null,
   "metadata": {},
   "outputs": [],
   "source": []
  },
  {
   "cell_type": "code",
   "execution_count": null,
   "metadata": {},
   "outputs": [],
   "source": []
  }
 ],
 "metadata": {
  "kernelspec": {
   "display_name": "Python 3",
   "language": "python",
   "name": "python3"
  },
  "language_info": {
   "codemirror_mode": {
    "name": "ipython",
    "version": 3
   },
   "file_extension": ".py",
   "mimetype": "text/x-python",
   "name": "python",
   "nbconvert_exporter": "python",
   "pygments_lexer": "ipython3",
   "version": "3.5.5"
  }
 },
 "nbformat": 4,
 "nbformat_minor": 2
}
